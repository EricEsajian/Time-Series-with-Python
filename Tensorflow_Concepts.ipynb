{
 "cells": [
  {
   "cell_type": "code",
   "execution_count": 1,
   "metadata": {},
   "outputs": [],
   "source": [
    "import tensorflow as tf"
   ]
  },
  {
   "cell_type": "code",
   "execution_count": 8,
   "metadata": {},
   "outputs": [],
   "source": [
    "#Constant nodes\n",
    "#When and how to use them\n",
    "#Sessions\n",
    "\n",
    "const_1 = tf.constant(value=[[1.0, 2.0]],\n",
    "                     dtype=tf.float32,\n",
    "                     shape=(1, 2),\n",
    "                     name='const_1',\n",
    "                     verify_shape=True)\n",
    "\n",
    "const_2 = tf.constant(value=[[3.0, 4.0]],\n",
    "                     dtype=tf.float32,\n",
    "                     shape=(1, 2),\n",
    "                     name='const_1',\n",
    "                     verify_shape=True)"
   ]
  },
  {
   "cell_type": "code",
   "execution_count": 9,
   "metadata": {},
   "outputs": [
    {
     "name": "stdout",
     "output_type": "stream",
     "text": [
      "[array([[1., 2.]], dtype=float32), array([[3., 4.]], dtype=float32)]\n"
     ]
    }
   ],
   "source": [
    "session = tf.Session()\n",
    "print(session.run(fetches=[const_1, const_2]))"
   ]
  },
  {
   "cell_type": "code",
   "execution_count": 15,
   "metadata": {},
   "outputs": [
    {
     "name": "stdout",
     "output_type": "stream",
     "text": [
      "<tf.Variable 'var_1_4:0' shape=(1,) dtype=float32_ref>\n",
      "[1.]\n",
      "[1.]\n",
      "[2.]\n"
     ]
    }
   ],
   "source": [
    "#Variable Nodes\n",
    "#When and how to use them\n",
    "#Compare to constant nodes\n",
    "\n",
    "var_1 = tf.Variable(initial_value=[1.0],\n",
    "                    trainable=True,\n",
    "                    collections=None,\n",
    "                    validate_shape=True,\n",
    "                    caching_device=None,\n",
    "                    name='var_1',\n",
    "                    variable_def=None,\n",
    "                    dtype=tf.float32,\n",
    "                    expected_shape=(1, None),\n",
    "                    import_scope=None)\n",
    "\n",
    "print(var_1)\n",
    "init = tf.global_variables_initializer()\n",
    "session.run(init)\n",
    "print(session.run(fetches=var_1))\n",
    "\n",
    "var_2 = var_1.assign(value=[2.0])\n",
    "print(session.run(fetches=var_1))\n",
    "print(session.run(fetches=var_2))"
   ]
  },
  {
   "cell_type": "code",
   "execution_count": 18,
   "metadata": {},
   "outputs": [
    {
     "name": "stdout",
     "output_type": "stream",
     "text": [
      "Tensor(\"placeholder_1_1:0\", shape=(1, 4), dtype=float32)\n",
      "[[1. 2. 3. 4.]]\n",
      "Tensor(\"placeholder_2_1:0\", shape=(2, 2), dtype=float32)\n",
      "[array([[1., 2., 3., 4.]], dtype=float32), array([[1., 2.],\n",
      "       [3., 4.]], dtype=float32)]\n"
     ]
    }
   ],
   "source": [
    "#Placeholder nodes\n",
    "#When and how to use them\n",
    "#Compare to constant and variable nodes\n",
    "\n",
    "placeholder_1 = tf.placeholder(dtype=tf.float32,\n",
    "                               shape=(1, 4),\n",
    "                               name='placeholder_1')\n",
    "\n",
    "print(placeholder_1)\n",
    "print(session.run(fetches=placeholder_1, feed_dict={placeholder_1: [[1.0, 2.0, 3.0, 4.0]]}))\n",
    "\n",
    "placeholder_2 = tf.placeholder(dtype=tf.float32,\n",
    "                               shape=(2, 2),\n",
    "                               name='placeholder_2')\n",
    "\n",
    "print(placeholder_2)\n",
    "print(session.run(fetches=[placeholder_1, placeholder_2], \n",
    "                  feed_dict={placeholder_1: [[1.0, 2.0, 3.0, 4.0]], placeholder_2: [[1.0, 2.0], [3.0, 4.0]]}))"
   ]
  },
  {
   "cell_type": "code",
   "execution_count": 23,
   "metadata": {},
   "outputs": [
    {
     "name": "stdout",
     "output_type": "stream",
     "text": [
      "[5. 7. 9.]\n"
     ]
    }
   ],
   "source": [
    "#Operational nodes\n",
    "#How to perfrom operations on existing nodes\n",
    "#Build a mini computational graph\n",
    "\n",
    "const_1 = tf.constant(value=[1.0])\n",
    "const_2 = tf.constant(value=[2.0])\n",
    "placeholder_1 = tf.placeholder(dtype=tf.float32)\n",
    "#results = const_1 + const_2\n",
    "results = tf.add(x=placeholder_1, y=const_2, name='results')\n",
    "\n",
    "# y = Wx + b\n",
    "W = tf.constant(value=[2.0])\n",
    "b = tf.constant(value=[1.0])\n",
    "x = tf.placeholder(dtype=tf.float32)\n",
    "#y = W * x + b\n",
    "mult = tf.multiply(x=W, y=x)\n",
    "y = tf.add(x=mult, y=b)\n",
    "\n",
    "\n",
    "#print(session.run(fetches=results, feed_dict={placeholder_1: [2.0]}))\n",
    "print(session.run(fetches=y, feed_dict={x: [2.0, 3.0, 4.0]}))"
   ]
  },
  {
   "cell_type": "code",
   "execution_count": 25,
   "metadata": {},
   "outputs": [],
   "source": [
    "#Loss function and optimizers\n",
    "#Training and Testing\n",
    "\n",
    "# x_train = [1.0, 2.0, 3.0, 4.0]\n",
    "# y_train = [2.0, 3.0, 4.0, 5.0]\n",
    "# y_actual = [1.5, 2.5, 3.5, 4.5]\n",
    "# loss = tf.reduce_sum(input_tensor=tf.square(x=y_train - y_actual))\n",
    "# optimizer = tf.train.GradientDescentOptimizer(learning_rate=0.05)\n",
    "# train_step = optimizer.minimize(loss=loss)"
   ]
  },
  {
   "cell_type": "markdown",
   "metadata": {},
   "source": [
    "# Linear Regression"
   ]
  },
  {
   "cell_type": "code",
   "execution_count": 26,
   "metadata": {},
   "outputs": [
    {
     "name": "stdout",
     "output_type": "stream",
     "text": [
      "WARNING:tensorflow:From C:\\Users\\esaeri-1122\\AppData\\Local\\Continuum\\anaconda3\\lib\\site-packages\\tensorflow\\python\\ops\\math_ops.py:3066: to_int32 (from tensorflow.python.ops.math_ops) is deprecated and will be removed in a future version.\n",
      "Instructions for updating:\n",
      "Use tf.cast instead.\n",
      "164.0\n",
      "[3.1441516e-12, array([-1.0000007], dtype=float32), array([2.0641437e-06], dtype=float32)]\n",
      "[ -5.000002 -10.000006 -15.000009]\n"
     ]
    }
   ],
   "source": [
    "# y = Wx + b\n",
    "\n",
    "x_train = [1.0, 2.0, 3.0, 4.0]\n",
    "y_train = [-1.0, -2.0, -3.0, -4.0]\n",
    "\n",
    "W = tf.Variable(initial_value=[1.0], dtype=tf.float32)\n",
    "b = tf.Variable(initial_value=[1.0], dtype=tf.float32)\n",
    "\n",
    "x = tf.placeholder(dtype=tf.float32)\n",
    "y_input = tf.placeholder(dtype=tf.float32)\n",
    "\n",
    "\n",
    "y_output = W * x + b\n",
    "\n",
    "loss = tf.reduce_sum(input_tensor=tf.square(x=y_output - y_input))\n",
    "optimizer = tf.train.GradientDescentOptimizer(learning_rate=0.01)\n",
    "train_step = optimizer.minimize(loss=loss)\n",
    "\n",
    "session = tf.Session()\n",
    "session.run(tf.global_variables_initializer())\n",
    "\n",
    "print(session.run(fetches=loss, feed_dict={x: x_train, y_input: y_train}))\n",
    "\n",
    "for _ in range(1000):\n",
    "    session.run(fetches=train_step, feed_dict={x: x_train, y_input: y_train})\n",
    "    \n",
    "print(session.run(fetches=[loss, W, b], feed_dict={x: x_train, y_input: y_train}))\n",
    "\n",
    "print(session.run(fetches=y_output, feed_dict={x: [5.0, 10.0, 15.0]}))"
   ]
  },
  {
   "cell_type": "code",
   "execution_count": null,
   "metadata": {},
   "outputs": [],
   "source": []
  }
 ],
 "metadata": {
  "kernelspec": {
   "display_name": "Python 3",
   "language": "python",
   "name": "python3"
  },
  "language_info": {
   "codemirror_mode": {
    "name": "ipython",
    "version": 3
   },
   "file_extension": ".py",
   "mimetype": "text/x-python",
   "name": "python",
   "nbconvert_exporter": "python",
   "pygments_lexer": "ipython3",
   "version": "3.6.9"
  }
 },
 "nbformat": 4,
 "nbformat_minor": 2
}
